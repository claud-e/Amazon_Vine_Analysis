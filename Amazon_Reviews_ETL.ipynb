{
  "nbformat": 4,
  "nbformat_minor": 0,
  "metadata": {
    "colab": {
      "name": "Amazon_Reviews_ETL.ipynb",
      "provenance": [],
      "collapsed_sections": []
    },
    "kernelspec": {
      "name": "python3",
      "display_name": "Python 3"
    },
    "nteract": {
      "version": "0.12.3"
    },
    "language_info": {
      "name": "python"
    }
  },
  "cells": [
    {
      "cell_type": "code",
      "metadata": {
        "id": "V58rxea0HqSa",
        "colab": {
          "base_uri": "https://localhost:8080/"
        },
        "outputId": "a03ea6f2-7daa-4083-9b78-ead4d357b0b4"
      },
      "source": [
        "import os\n",
        "# Find the latest version of spark 3.0 from http://www.apache.org/dist/spark/ and enter as the spark version\n",
        "# For example:\n",
        "# spark_version = 'spark-3.0.3'\n",
        "spark_version = 'spark-3.2.0'\n",
        "os.environ['SPARK_VERSION']=spark_version\n",
        "\n",
        "# Install Spark and Java\n",
        "!apt-get update\n",
        "!apt-get install openjdk-11-jdk-headless -qq > /dev/null\n",
        "!wget -q http://www.apache.org/dist/spark/$SPARK_VERSION/$SPARK_VERSION-bin-hadoop2.7.tgz\n",
        "!tar xf $SPARK_VERSION-bin-hadoop2.7.tgz\n",
        "!pip install -q findspark\n",
        "\n",
        "# Set Environment Variables\n",
        "import os\n",
        "os.environ[\"JAVA_HOME\"] = \"/usr/lib/jvm/java-11-openjdk-amd64\"\n",
        "os.environ[\"SPARK_HOME\"] = f\"/content/{spark_version}-bin-hadoop2.7\"\n",
        "\n",
        "# Start a SparkSession\n",
        "import findspark\n",
        "findspark.init()"
      ],
      "execution_count": null,
      "outputs": [
        {
          "output_type": "stream",
          "name": "stdout",
          "text": [
            "Get:1 https://cloud.r-project.org/bin/linux/ubuntu bionic-cran40/ InRelease [3,626 B]\n",
            "Ign:2 https://developer.download.nvidia.com/compute/cuda/repos/ubuntu1804/x86_64  InRelease\n",
            "Get:3 http://security.ubuntu.com/ubuntu bionic-security InRelease [88.7 kB]\n",
            "Ign:4 https://developer.download.nvidia.com/compute/machine-learning/repos/ubuntu1804/x86_64  InRelease\n",
            "Get:5 https://developer.download.nvidia.com/compute/cuda/repos/ubuntu1804/x86_64  Release [696 B]\n",
            "Hit:6 https://developer.download.nvidia.com/compute/machine-learning/repos/ubuntu1804/x86_64  Release\n",
            "Get:7 https://developer.download.nvidia.com/compute/cuda/repos/ubuntu1804/x86_64  Release.gpg [836 B]\n",
            "Get:8 http://ppa.launchpad.net/c2d4u.team/c2d4u4.0+/ubuntu bionic InRelease [15.9 kB]\n",
            "Hit:9 http://archive.ubuntu.com/ubuntu bionic InRelease\n",
            "Get:11 http://archive.ubuntu.com/ubuntu bionic-updates InRelease [88.7 kB]\n",
            "Get:12 https://developer.download.nvidia.com/compute/cuda/repos/ubuntu1804/x86_64  Packages [867 kB]\n",
            "Hit:13 http://ppa.launchpad.net/cran/libgit2/ubuntu bionic InRelease\n",
            "Get:14 http://archive.ubuntu.com/ubuntu bionic-backports InRelease [74.6 kB]\n",
            "Get:15 http://security.ubuntu.com/ubuntu bionic-security/restricted amd64 Packages [725 kB]\n",
            "Hit:16 http://ppa.launchpad.net/deadsnakes/ppa/ubuntu bionic InRelease\n",
            "Get:17 http://archive.ubuntu.com/ubuntu bionic-updates/restricted amd64 Packages [758 kB]\n",
            "Hit:18 http://ppa.launchpad.net/graphics-drivers/ppa/ubuntu bionic InRelease\n",
            "Get:19 http://security.ubuntu.com/ubuntu bionic-security/universe amd64 Packages [1,459 kB]\n",
            "Get:20 http://ppa.launchpad.net/c2d4u.team/c2d4u4.0+/ubuntu bionic/main Sources [1,822 kB]\n",
            "Get:21 http://security.ubuntu.com/ubuntu bionic-security/main amd64 Packages [2,498 kB]\n",
            "Get:22 http://archive.ubuntu.com/ubuntu bionic-updates/universe amd64 Packages [2,238 kB]\n",
            "Get:23 http://archive.ubuntu.com/ubuntu bionic-updates/main amd64 Packages [2,935 kB]\n",
            "Get:24 http://ppa.launchpad.net/c2d4u.team/c2d4u4.0+/ubuntu bionic/main amd64 Packages [934 kB]\n",
            "Fetched 14.5 MB in 6s (2,259 kB/s)\n",
            "Reading package lists... Done\n"
          ]
        }
      ]
    },
    {
      "cell_type": "code",
      "metadata": {
        "id": "_xKwTpATHqSe",
        "colab": {
          "base_uri": "https://localhost:8080/"
        },
        "outputId": "00bcba08-aeaf-4b85-fe86-ef92abb36a4d"
      },
      "source": [
        "# Download the Postgres driver that will allow Spark to interact with Postgres.\n",
        "!wget https://jdbc.postgresql.org/download/postgresql-42.2.16.jar"
      ],
      "execution_count": null,
      "outputs": [
        {
          "output_type": "stream",
          "name": "stdout",
          "text": [
            "--2022-01-14 23:23:30--  https://jdbc.postgresql.org/download/postgresql-42.2.16.jar\n",
            "Resolving jdbc.postgresql.org (jdbc.postgresql.org)... 72.32.157.228, 2001:4800:3e1:1::228\n",
            "Connecting to jdbc.postgresql.org (jdbc.postgresql.org)|72.32.157.228|:443... connected.\n",
            "HTTP request sent, awaiting response... 200 OK\n",
            "Length: 1002883 (979K) [application/java-archive]\n",
            "Saving to: ‘postgresql-42.2.16.jar’\n",
            "\n",
            "postgresql-42.2.16. 100%[===================>] 979.38K  1.22MB/s    in 0.8s    \n",
            "\n",
            "2022-01-14 23:23:32 (1.22 MB/s) - ‘postgresql-42.2.16.jar’ saved [1002883/1002883]\n",
            "\n"
          ]
        }
      ]
    },
    {
      "cell_type": "code",
      "metadata": {
        "id": "MMqDAjVS0KN9"
      },
      "source": [
        "from pyspark.sql import SparkSession\n",
        "spark = SparkSession.builder.appName(\"M16-Amazon-Challenge\").config(\"spark.driver.extraClassPath\",\"/content/postgresql-42.2.16.jar\").getOrCreate()"
      ],
      "execution_count": null,
      "outputs": []
    },
    {
      "cell_type": "markdown",
      "metadata": {
        "id": "cyBsySGuY-9V"
      },
      "source": [
        "### Load Amazon Data into Spark DataFrame"
      ]
    },
    {
      "cell_type": "code",
      "metadata": {
        "id": "CtCmBhQJY-9Z",
        "colab": {
          "base_uri": "https://localhost:8080/"
        },
        "outputId": "d3269c19-d085-405f-e114-bb1851b13707"
      },
      "source": [
        "from pyspark import SparkFiles\n",
        "url = \"https://s3.amazonaws.com/amazon-reviews-pds/tsv/amazon_reviews_us_Digital_Ebook_Purchase_v1_01.tsv.gz\"\n",
        "spark.sparkContext.addFile(url)\n",
        "df = spark.read.option(\"encoding\", \"UTF-8\").csv(SparkFiles.get(\"\"), sep=\"\\t\", header=True, inferSchema=True)\n",
        "df.show()"
      ],
      "execution_count": null,
      "outputs": [
        {
          "output_type": "stream",
          "name": "stdout",
          "text": [
            "+-----------+-----------+--------------+----------+--------------+--------------------+--------------------+-----------+-------------+-----------+----+-----------------+--------------------+--------------------+-----------+\n",
            "|marketplace|customer_id|     review_id|product_id|product_parent|       product_title|    product_category|star_rating|helpful_votes|total_votes|vine|verified_purchase|     review_headline|         review_body|review_date|\n",
            "+-----------+-----------+--------------+----------+--------------+--------------------+--------------------+-----------+-------------+-----------+----+-----------------+--------------------+--------------------+-----------+\n",
            "|         US|   33605939| RGYFDX8QXKEIR|B007KO2MLO|     328837464|           Big Maria|Digital_Ebook_Pur...|          4|            0|          0|   N|                N|              Quirky|Elmore Leonard me...| 2013-09-09|\n",
            "|         US|   34058393|R13CBGTMNV9R8Z|B005FLODDE|     764276359|The Woman Who Was...|Digital_Ebook_Pur...|          4|            1|          2|   N|                Y|The Woman Who Was...|This book was ver...| 2013-09-09|\n",
            "|         US|   39601147| R7DRFHC0F71O0|B00EA3L35O|     535606445|Mary had A Sleepy...|Digital_Ebook_Pur...|          5|            0|          0|   N|                N|This Sleepy Sheep...|I had the opportu...| 2013-09-09|\n",
            "|         US|   17351407|R27LUKEXU3KBXQ|B00BL3JV50|     240053004|          Starstruck|Digital_Ebook_Pur...|          5|            1|          1|   N|                Y|Steamy and suspen...|What a great read...| 2013-09-09|\n",
            "|         US|   10463387|R1VXTPUYMNU687|B00CXU7U80|     931529805|The Complete Cona...|Digital_Ebook_Pur...|          5|            1|          2|   N|                N|          Barbarians|Barbarians need l...| 2013-09-09|\n",
            "|         US|   50484904|R30DKW1GJWLPZC|B004EWGS5G|     442453110|The Middle Passag...|Digital_Ebook_Pur...|          3|            1|          2|   N|                Y|            Menu....|It was okay obvio...| 2013-09-09|\n",
            "|         US|    7145636|R18DPFG2FALJI9|B00BNRJAT6|     856774152|Hide in Plain Sig...|Digital_Ebook_Pur...|          5|            0|          0|   N|                Y|        Awesome book|Very interesting ...| 2013-09-09|\n",
            "|         US|    6285538|R24D677N5WBW5Q|B007FZOXJM|       5589837|Face of Betrayal ...|Digital_Ebook_Pur...|          5|            0|          0|   N|                Y|    Face of betrayal|Really enjoyed th...| 2013-09-09|\n",
            "|         US|   10278048|R2FCJ9BQLSIOR3|B00B6AK7LU|     362701357|Final Justice (A ...|Digital_Ebook_Pur...|          5|            0|          0|   N|                Y|           Very good|I really liked th...| 2013-09-09|\n",
            "|         US|   16568972|R1R6K4MAKDWTXI|B00EVMMLU0|     342745087|Falling For My Hu...|Digital_Ebook_Pur...|          4|            0|          0|   N|                Y|Ouch! My neck is ...|Reading Callum an...| 2013-09-09|\n",
            "|         US|   26001763|R3R5DILCWM8J7B|B00E4W4984|     186117550|  Forgetting Tabitha|Digital_Ebook_Pur...|          5|            0|          0|   N|                Y|It was a wonderfu...|I really enjoyed ...| 2013-09-09|\n",
            "|         US|   48203259| RR5K72IZOCOFE|B005A1JBB8|     947574172|The Blacksmith's ...|Digital_Ebook_Pur...|          4|            0|          0|   N|                N|       Worth reading|Although not comp...| 2013-09-09|\n",
            "|         US|   45028038|R3K9PJU5GLDY3O|B0044DELIQ|     427899617|Vampire Vacation:...|Digital_Ebook_Pur...|          5|            1|          2|   N|                Y|      Very Good Romp|Enjoyed the chara...| 2013-09-09|\n",
            "|         US|   42554355|R1KTZMCDOJXAEK|B00DJQYATE|     184945574|By the Tail (Coug...|Digital_Ebook_Pur...|          5|            0|          0|   N|                N|    Love this Series|I love the Cougar...| 2013-09-09|\n",
            "|         US|   11251156|R3SBEH4Y3W9W11|B004XFYNNS|     820449163|The Kingdom (A Fa...|Digital_Ebook_Pur...|          5|            0|          0|   N|                Y|    Love this author|I really enjoy Cl...| 2013-09-09|\n",
            "|         US|   44677006|R3GB8WOHSWW2EG|B00A27Z6GO|     969993834|6 Erotic Bedtime ...|Digital_Ebook_Pur...|          3|            0|          0|   N|                Y|    Didn't finish...|I have to admit I...| 2013-09-09|\n",
            "|         US|   34645512| RDM68WMOEDNRJ|B008EGV4BQ|      36906356|The Purpose Drive...|Digital_Ebook_Pur...|          5|            0|          0|   N|                Y|Can't unread it now!|Thanx paster Rick...| 2013-09-09|\n",
            "|         US|   16137650|R3TW70YF2WZK9O|B00655U3WE|     941986263|Insurgent (Diverg...|Digital_Ebook_Pur...|          5|            0|          0|   N|                Y|Great second inst...|As with divergent...| 2013-09-09|\n",
            "|         US|    4514126|R39ESX43X1SA5T|B006NG0GXQ|     402593554|Forever His: A Ti...|Digital_Ebook_Pur...|          1|           36|         47|   N|                Y|   Completely absurd|From the time tha...| 2013-09-09|\n",
            "|         US|   44803855|R3MCA5W3BZ65OU|B008J4RPWA|     804503161|Summerset Abbey: ...|Digital_Ebook_Pur...|          5|            0|          0|   N|                Y|#2, just as good ...|I love the intera...| 2013-09-09|\n",
            "+-----------+-----------+--------------+----------+--------------+--------------------+--------------------+-----------+-------------+-----------+----+-----------------+--------------------+--------------------+-----------+\n",
            "only showing top 20 rows\n",
            "\n"
          ]
        }
      ]
    },
    {
      "cell_type": "markdown",
      "metadata": {
        "id": "2yUSe55VY-9t"
      },
      "source": [
        "### Create DataFrames to match tables"
      ]
    },
    {
      "cell_type": "code",
      "metadata": {
        "id": "C8REmY1aY-9u"
      },
      "source": [
        "from pyspark.sql.functions import to_date\n",
        "# Read in the Review dataset as a DataFrame\n",
        "\n"
      ],
      "execution_count": null,
      "outputs": []
    },
    {
      "cell_type": "code",
      "metadata": {
        "id": "B0TESUDRY-90",
        "colab": {
          "base_uri": "https://localhost:8080/"
        },
        "outputId": "6a85acd4-0118-43b2-baf0-8c10eae5f8c8"
      },
      "source": [
        "# Create the customers_table DataFrame\n",
        "customers_df = df.groupby(\"customer_id\").agg({\"customer_id\":\"count\"}).withColumnRenamed(\"count(customer_id)\", \"customer_count\")\n",
        "customers_df.show()"
      ],
      "execution_count": null,
      "outputs": [
        {
          "output_type": "stream",
          "name": "stdout",
          "text": [
            "+-----------+--------------+\n",
            "|customer_id|customer_count|\n",
            "+-----------+--------------+\n",
            "|   27134317|           306|\n",
            "|   36063094|            15|\n",
            "|   49422311|             1|\n",
            "|   18978114|             1|\n",
            "|   13455482|             2|\n",
            "|   32153206|             1|\n",
            "|   10274872|             4|\n",
            "|   20977654|             1|\n",
            "|   48042607|             1|\n",
            "|   11376183|             7|\n",
            "|   31762963|             1|\n",
            "|   11481508|             4|\n",
            "|   12362676|             2|\n",
            "|   31176171|            10|\n",
            "|   44699860|            23|\n",
            "|   52734389|             8|\n",
            "|   24303040|             3|\n",
            "|   26322451|            77|\n",
            "|   14521576|            30|\n",
            "|   44269342|            10|\n",
            "+-----------+--------------+\n",
            "only showing top 20 rows\n",
            "\n"
          ]
        }
      ]
    },
    {
      "cell_type": "code",
      "metadata": {
        "id": "4FwXA6UvY-96",
        "colab": {
          "base_uri": "https://localhost:8080/"
        },
        "outputId": "13579f82-3140-4237-db60-85528bebce82"
      },
      "source": [
        "# Create the products_table DataFrame and drop duplicates. \n",
        "products_df = df.select([\"product_id\", \"product_title\"]).drop_duplicates([\"product_id\"])\n",
        "products_df.show()"
      ],
      "execution_count": 56,
      "outputs": [
        {
          "output_type": "stream",
          "name": "stdout",
          "text": [
            "+----------+--------------------+\n",
            "|product_id|       product_title|\n",
            "+----------+--------------------+\n",
            "|068986843X|The Stolen Relic ...|\n",
            "|B000EOTFRQ|  The Grand Alliance|\n",
            "|B000F83SV0| Lavender Excursions|\n",
            "|B000F83SWO| Season of the Witch|\n",
            "|B000F83T2S|   No Enemy But Time|\n",
            "|B000F83T3C|The Return of Tar...|\n",
            "|B000F83T82|              Terror|\n",
            "|B000F83TDW|    Unicorn Mountain|\n",
            "|B000F83TEQ|Gold Coffin Murde...|\n",
            "|B000FA5KFA|          The Prince|\n",
            "|B000FA5KKA|Interplanetary Hu...|\n",
            "|B000FA5KSC|Winning the Loser...|\n",
            "|B000FA5KTQ|Buying Travel Ser...|\n",
            "|B000FA5KX2|    The McKinsey Way|\n",
            "|B000FA5L18|Motivating Employ...|\n",
            "|B000FA5LMM|The Post-Traumati...|\n",
            "|B000FA5LPE|The Disney Way, R...|\n",
            "|B000FA5LQ8|Leading Self-Dire...|\n",
            "|B000FA5LT0|The Unoffcial Bus...|\n",
            "|B000FA5LTA|Schaum's Easy Out...|\n",
            "+----------+--------------------+\n",
            "only showing top 20 rows\n",
            "\n"
          ]
        }
      ]
    },
    {
      "cell_type": "code",
      "metadata": {
        "id": "MkqyCuNQY-9-",
        "colab": {
          "base_uri": "https://localhost:8080/"
        },
        "outputId": "06a2f0c7-913e-47ca-951b-0fd485275dba"
      },
      "source": [
        "# Create the review_id_table DataFrame. \n",
        "# Convert the 'review_date' column to a date datatype with to_date(\"review_date\", 'yyyy-MM-dd').alias(\"review_date\")\n",
        "review_id_df = df.select([\"review_id\", \"customer_id\", \"product_id\", \"product_parent\", to_date(\"review_date\", 'yyyy-MM-dd').alias(\"review_date\")])\n",
        "review_id_df.show()"
      ],
      "execution_count": null,
      "outputs": [
        {
          "output_type": "stream",
          "name": "stdout",
          "text": [
            "+--------------+-----------+----------+--------------+-----------+\n",
            "|     review_id|customer_id|product_id|product_parent|review_date|\n",
            "+--------------+-----------+----------+--------------+-----------+\n",
            "| RGYFDX8QXKEIR|   33605939|B007KO2MLO|     328837464| 2013-09-09|\n",
            "|R13CBGTMNV9R8Z|   34058393|B005FLODDE|     764276359| 2013-09-09|\n",
            "| R7DRFHC0F71O0|   39601147|B00EA3L35O|     535606445| 2013-09-09|\n",
            "|R27LUKEXU3KBXQ|   17351407|B00BL3JV50|     240053004| 2013-09-09|\n",
            "|R1VXTPUYMNU687|   10463387|B00CXU7U80|     931529805| 2013-09-09|\n",
            "|R30DKW1GJWLPZC|   50484904|B004EWGS5G|     442453110| 2013-09-09|\n",
            "|R18DPFG2FALJI9|    7145636|B00BNRJAT6|     856774152| 2013-09-09|\n",
            "|R24D677N5WBW5Q|    6285538|B007FZOXJM|       5589837| 2013-09-09|\n",
            "|R2FCJ9BQLSIOR3|   10278048|B00B6AK7LU|     362701357| 2013-09-09|\n",
            "|R1R6K4MAKDWTXI|   16568972|B00EVMMLU0|     342745087| 2013-09-09|\n",
            "|R3R5DILCWM8J7B|   26001763|B00E4W4984|     186117550| 2013-09-09|\n",
            "| RR5K72IZOCOFE|   48203259|B005A1JBB8|     947574172| 2013-09-09|\n",
            "|R3K9PJU5GLDY3O|   45028038|B0044DELIQ|     427899617| 2013-09-09|\n",
            "|R1KTZMCDOJXAEK|   42554355|B00DJQYATE|     184945574| 2013-09-09|\n",
            "|R3SBEH4Y3W9W11|   11251156|B004XFYNNS|     820449163| 2013-09-09|\n",
            "|R3GB8WOHSWW2EG|   44677006|B00A27Z6GO|     969993834| 2013-09-09|\n",
            "| RDM68WMOEDNRJ|   34645512|B008EGV4BQ|      36906356| 2013-09-09|\n",
            "|R3TW70YF2WZK9O|   16137650|B00655U3WE|     941986263| 2013-09-09|\n",
            "|R39ESX43X1SA5T|    4514126|B006NG0GXQ|     402593554| 2013-09-09|\n",
            "|R3MCA5W3BZ65OU|   44803855|B008J4RPWA|     804503161| 2013-09-09|\n",
            "+--------------+-----------+----------+--------------+-----------+\n",
            "only showing top 20 rows\n",
            "\n"
          ]
        }
      ]
    },
    {
      "cell_type": "code",
      "metadata": {
        "id": "lzMmkdKmY--D"
      },
      "source": [
        "# Create the vine_table. DataFrame\n",
        "vine_df = df.select([\"review_id\", \"star_rating\", \"helpful_votes\", \"total_votes\", \"vine\", \"verified_purchase\"])"
      ],
      "execution_count": null,
      "outputs": []
    },
    {
      "cell_type": "markdown",
      "metadata": {
        "id": "jITZhLkmY--J"
      },
      "source": [
        "### Connect to the AWS RDS instance and write each DataFrame to its table. "
      ]
    },
    {
      "cell_type": "code",
      "metadata": {
        "id": "7jiUvs1aY--L"
      },
      "source": [
        "# Configure settings for RDS\n",
        "\n",
        "\n",
        "\n",
        "mode = \"append\"\n",
        "jdbc_url=\"\"\n",
        "config = {\"user\":\"postgres\", \n",
        "          \"password\": \"\", \n",
        "          \"driver\":\"org.postgresql.Driver\"}"
      ],
      "execution_count": 81,
      "outputs": []
    },
    {
      "cell_type": "code",
      "metadata": {
        "id": "T2zgZ-aKY--Q"
      },
      "source": [
        "# Write review_id_df to table in RDS\n",
        "review_id_df.write.jdbc(url=jdbc_url, table='review_id_table', mode=mode, properties=config)"
      ],
      "execution_count": 82,
      "outputs": []
    },
    {
      "cell_type": "code",
      "metadata": {
        "id": "1m3yzn-LY--U"
      },
      "source": [
        "# Write products_df to table in RDS\n",
        "# about 3 min\n",
        "products_df.write.jdbc(url=jdbc_url, table='products_table', mode=mode, properties=config)"
      ],
      "execution_count": 80,
      "outputs": []
    },
    {
      "cell_type": "code",
      "metadata": {
        "id": "KbXri15fY--Z"
      },
      "source": [
        "# Write customers_df to table in RDS\n",
        "# 5 min 14 s\n",
        "customers_df.write.jdbc(url=jdbc_url, table='customers_table', mode=mode, properties=config)"
      ],
      "execution_count": null,
      "outputs": []
    },
    {
      "cell_type": "code",
      "metadata": {
        "id": "XdQknSHLY--e"
      },
      "source": [
        "# Write vine_df to table in RDS\n",
        "# 11 minutes\n",
        "vine_df.write.jdbc(url=jdbc_url, table='vine_table', mode=mode, properties=config)"
      ],
      "execution_count": null,
      "outputs": []
    },
    {
      "cell_type": "code",
      "metadata": {
        "id": "Exuo6ebUsCqW",
        "colab": {
          "base_uri": "https://localhost:8080/"
        },
        "outputId": "9155c726-c5e2-4513-8bd9-91bc77c0fc9d"
      },
      "source": [
        "vine_table=vine_df\n",
        "vine_table.show()"
      ],
      "execution_count": 61,
      "outputs": [
        {
          "output_type": "stream",
          "name": "stdout",
          "text": [
            "+--------------+-----------+-------------+-----------+----+-----------------+\n",
            "|     review_id|star_rating|helpful_votes|total_votes|vine|verified_purchase|\n",
            "+--------------+-----------+-------------+-----------+----+-----------------+\n",
            "| RGYFDX8QXKEIR|          4|            0|          0|   N|                N|\n",
            "|R13CBGTMNV9R8Z|          4|            1|          2|   N|                Y|\n",
            "| R7DRFHC0F71O0|          5|            0|          0|   N|                N|\n",
            "|R27LUKEXU3KBXQ|          5|            1|          1|   N|                Y|\n",
            "|R1VXTPUYMNU687|          5|            1|          2|   N|                N|\n",
            "|R30DKW1GJWLPZC|          3|            1|          2|   N|                Y|\n",
            "|R18DPFG2FALJI9|          5|            0|          0|   N|                Y|\n",
            "|R24D677N5WBW5Q|          5|            0|          0|   N|                Y|\n",
            "|R2FCJ9BQLSIOR3|          5|            0|          0|   N|                Y|\n",
            "|R1R6K4MAKDWTXI|          4|            0|          0|   N|                Y|\n",
            "|R3R5DILCWM8J7B|          5|            0|          0|   N|                Y|\n",
            "| RR5K72IZOCOFE|          4|            0|          0|   N|                N|\n",
            "|R3K9PJU5GLDY3O|          5|            1|          2|   N|                Y|\n",
            "|R1KTZMCDOJXAEK|          5|            0|          0|   N|                N|\n",
            "|R3SBEH4Y3W9W11|          5|            0|          0|   N|                Y|\n",
            "|R3GB8WOHSWW2EG|          3|            0|          0|   N|                Y|\n",
            "| RDM68WMOEDNRJ|          5|            0|          0|   N|                Y|\n",
            "|R3TW70YF2WZK9O|          5|            0|          0|   N|                Y|\n",
            "|R39ESX43X1SA5T|          1|           36|         47|   N|                Y|\n",
            "|R3MCA5W3BZ65OU|          5|            0|          0|   N|                Y|\n",
            "+--------------+-----------+-------------+-----------+----+-----------------+\n",
            "only showing top 20 rows\n",
            "\n"
          ]
        }
      ]
    },
    {
      "cell_type": "code",
      "source": [
        "filtered_vine_df= vine_df.filter(\"total_votes>=20\")\n",
        "filtered_vine_df.show()"
      ],
      "metadata": {
        "colab": {
          "base_uri": "https://localhost:8080/"
        },
        "id": "ylUzBkjsW4g0",
        "outputId": "1336514d-e8e6-4634-d9cb-8f6767bef0cd"
      },
      "execution_count": 62,
      "outputs": [
        {
          "output_type": "stream",
          "name": "stdout",
          "text": [
            "+--------------+-----------+-------------+-----------+----+-----------------+\n",
            "|     review_id|star_rating|helpful_votes|total_votes|vine|verified_purchase|\n",
            "+--------------+-----------+-------------+-----------+----+-----------------+\n",
            "|R39ESX43X1SA5T|          1|           36|         47|   N|                Y|\n",
            "|R31QRZ3JAMPBB4|          1|           16|         26|   N|                Y|\n",
            "|R23FKBEXURC3SN|          5|           28|         36|   N|                N|\n",
            "| R4IAIDV5EE84W|          1|            8|         21|   N|                Y|\n",
            "|R26MB2DA7ROT4P|          1|            2|         21|   N|                Y|\n",
            "| RTRVYV0GWUTCK|          5|           18|         25|   N|                Y|\n",
            "|R3QLZAI37SNOOC|          2|           30|         31|   N|                Y|\n",
            "|R1QYZU3RS4CY4F|          5|           66|         76|   N|                N|\n",
            "|R2UR5OLN1BU87J|          2|           21|         23|   N|                Y|\n",
            "| RYBZ6CTBOGI0H|          1|            3|         84|   N|                N|\n",
            "|R38NW44NY19VAZ|          5|           30|         32|   N|                Y|\n",
            "| RLUFKZ223OR3L|          2|           20|         23|   N|                N|\n",
            "|R3H9D0U7BCE6FU|          4|           23|         24|   N|                Y|\n",
            "|R2OG3RELTTD8B3|          4|           70|         73|   N|                N|\n",
            "|R3SERP1OF1G1MH|          2|            3|         20|   N|                Y|\n",
            "| RP3K0YBQIVGXZ|          5|           57|         63|   N|                Y|\n",
            "|R38NKFX8MFXZF8|          1|            2|         21|   N|                Y|\n",
            "|R3JFHXXGSKG1CE|          1|           17|         30|   N|                Y|\n",
            "| RJK1WCZZAQZ8V|          1|           67|         81|   N|                Y|\n",
            "|R1M14DUDPWVLNM|          1|            6|         23|   N|                Y|\n",
            "+--------------+-----------+-------------+-----------+----+-----------------+\n",
            "only showing top 20 rows\n",
            "\n"
          ]
        }
      ]
    },
    {
      "cell_type": "code",
      "source": [
        "helpful_vine=filtered_vine_df.filter(filtered_vine_df.helpful_votes/filtered_vine_df.total_votes >= 0.5)\n",
        "helpful_vine.show()"
      ],
      "metadata": {
        "colab": {
          "base_uri": "https://localhost:8080/"
        },
        "id": "z19EWm9ZXFeU",
        "outputId": "ce741fad-6505-4c93-8cc4-4a03d099a3d1"
      },
      "execution_count": 63,
      "outputs": [
        {
          "output_type": "stream",
          "name": "stdout",
          "text": [
            "+--------------+-----------+-------------+-----------+----+-----------------+\n",
            "|     review_id|star_rating|helpful_votes|total_votes|vine|verified_purchase|\n",
            "+--------------+-----------+-------------+-----------+----+-----------------+\n",
            "|R39ESX43X1SA5T|          1|           36|         47|   N|                Y|\n",
            "|R31QRZ3JAMPBB4|          1|           16|         26|   N|                Y|\n",
            "|R23FKBEXURC3SN|          5|           28|         36|   N|                N|\n",
            "| RTRVYV0GWUTCK|          5|           18|         25|   N|                Y|\n",
            "|R3QLZAI37SNOOC|          2|           30|         31|   N|                Y|\n",
            "|R1QYZU3RS4CY4F|          5|           66|         76|   N|                N|\n",
            "|R2UR5OLN1BU87J|          2|           21|         23|   N|                Y|\n",
            "|R38NW44NY19VAZ|          5|           30|         32|   N|                Y|\n",
            "| RLUFKZ223OR3L|          2|           20|         23|   N|                N|\n",
            "|R3H9D0U7BCE6FU|          4|           23|         24|   N|                Y|\n",
            "|R2OG3RELTTD8B3|          4|           70|         73|   N|                N|\n",
            "| RP3K0YBQIVGXZ|          5|           57|         63|   N|                Y|\n",
            "|R3JFHXXGSKG1CE|          1|           17|         30|   N|                Y|\n",
            "| RJK1WCZZAQZ8V|          1|           67|         81|   N|                Y|\n",
            "|R3B5SVW0WVUHRB|          5|           23|         23|   N|                Y|\n",
            "|R2KYTL3780UJQP|          1|           50|         78|   N|                Y|\n",
            "|R298OT8VO3655T|          5|           22|         25|   N|                Y|\n",
            "|R22G9KVRZMFBGD|          5|           26|         26|   N|                N|\n",
            "|R2STEO5WQ426BH|          5|           21|         24|   N|                Y|\n",
            "|R28Z87RN6YSF25|          1|           39|         44|   N|                Y|\n",
            "+--------------+-----------+-------------+-----------+----+-----------------+\n",
            "only showing top 20 rows\n",
            "\n"
          ]
        }
      ]
    },
    {
      "cell_type": "code",
      "source": [
        "paid_reviews=helpful_vine.filter(\"vine == 'Y'\")\n",
        "paid_reviews.show()"
      ],
      "metadata": {
        "colab": {
          "base_uri": "https://localhost:8080/"
        },
        "id": "wh4MtrxzXa1w",
        "outputId": "4a0e07f4-594b-41a0-a97f-428023ca2c74"
      },
      "execution_count": 65,
      "outputs": [
        {
          "output_type": "stream",
          "name": "stdout",
          "text": [
            "+---------+-----------+-------------+-----------+----+-----------------+\n",
            "|review_id|star_rating|helpful_votes|total_votes|vine|verified_purchase|\n",
            "+---------+-----------+-------------+-----------+----+-----------------+\n",
            "+---------+-----------+-------------+-----------+----+-----------------+\n",
            "\n"
          ]
        }
      ]
    },
    {
      "cell_type": "code",
      "source": [
        "unpaid_reviews=helpful_vine.filter(\"vine == 'N'\")\n",
        "unpaid_reviews.show()"
      ],
      "metadata": {
        "colab": {
          "base_uri": "https://localhost:8080/"
        },
        "id": "sSyEhtJbXt_M",
        "outputId": "3f5e6748-6090-44ae-a1e0-b40920603363"
      },
      "execution_count": 66,
      "outputs": [
        {
          "output_type": "stream",
          "name": "stdout",
          "text": [
            "+--------------+-----------+-------------+-----------+----+-----------------+\n",
            "|     review_id|star_rating|helpful_votes|total_votes|vine|verified_purchase|\n",
            "+--------------+-----------+-------------+-----------+----+-----------------+\n",
            "|R39ESX43X1SA5T|          1|           36|         47|   N|                Y|\n",
            "|R31QRZ3JAMPBB4|          1|           16|         26|   N|                Y|\n",
            "|R23FKBEXURC3SN|          5|           28|         36|   N|                N|\n",
            "| RTRVYV0GWUTCK|          5|           18|         25|   N|                Y|\n",
            "|R3QLZAI37SNOOC|          2|           30|         31|   N|                Y|\n",
            "|R1QYZU3RS4CY4F|          5|           66|         76|   N|                N|\n",
            "|R2UR5OLN1BU87J|          2|           21|         23|   N|                Y|\n",
            "|R38NW44NY19VAZ|          5|           30|         32|   N|                Y|\n",
            "| RLUFKZ223OR3L|          2|           20|         23|   N|                N|\n",
            "|R3H9D0U7BCE6FU|          4|           23|         24|   N|                Y|\n",
            "|R2OG3RELTTD8B3|          4|           70|         73|   N|                N|\n",
            "| RP3K0YBQIVGXZ|          5|           57|         63|   N|                Y|\n",
            "|R3JFHXXGSKG1CE|          1|           17|         30|   N|                Y|\n",
            "| RJK1WCZZAQZ8V|          1|           67|         81|   N|                Y|\n",
            "|R3B5SVW0WVUHRB|          5|           23|         23|   N|                Y|\n",
            "|R2KYTL3780UJQP|          1|           50|         78|   N|                Y|\n",
            "|R298OT8VO3655T|          5|           22|         25|   N|                Y|\n",
            "|R22G9KVRZMFBGD|          5|           26|         26|   N|                N|\n",
            "|R2STEO5WQ426BH|          5|           21|         24|   N|                Y|\n",
            "|R28Z87RN6YSF25|          1|           39|         44|   N|                Y|\n",
            "+--------------+-----------+-------------+-----------+----+-----------------+\n",
            "only showing top 20 rows\n",
            "\n"
          ]
        }
      ]
    },
    {
      "cell_type": "code",
      "source": [
        "paid_list=[paid_reviews.count(),paid_reviews.filter(\"star_rating == 5\").count(), 0 ]\n"
      ],
      "metadata": {
        "id": "kLC0mc6RYZfc"
      },
      "execution_count": 83,
      "outputs": []
    },
    {
      "cell_type": "code",
      "source": [
        "unpaid_list=[unpaid_reviews.count(),unpaid_reviews.filter(\"star_rating == 5\").count(),  unpaid_reviews.filter(\"star_rating == 5\").count()*100/unpaid_reviews.count()]\n",
        "unpaid_list"
      ],
      "metadata": {
        "colab": {
          "base_uri": "https://localhost:8080/"
        },
        "id": "WBXLUDuDZajq",
        "outputId": "970bd653-d364-48fd-d328-8fc8b7152d62"
      },
      "execution_count": 74,
      "outputs": [
        {
          "output_type": "execute_result",
          "data": {
            "text/plain": [
              "[65149, 24673, 37.87164806827426]"
            ]
          },
          "metadata": {},
          "execution_count": 74
        }
      ]
    },
    {
      "cell_type": "code",
      "source": [
        "import pandas as pd\n",
        "\n",
        "summary_df = pd.DataFrame( {\n",
        "    \"paid_reviews\": paid_list,\n",
        "    \"unpaid_reviews\": unpaid_list\n",
        "    \n",
        "},\n",
        "index =[\"Total reviews\", \"5-star reviews\", \"5-star percentage\"])\n",
        "summary_df"
      ],
      "metadata": {
        "colab": {
          "base_uri": "https://localhost:8080/",
          "height": 142
        },
        "id": "pmdCXEytZarS",
        "outputId": "cfa172bb-3073-444d-ee22-e2b61ce7c306"
      },
      "execution_count": 78,
      "outputs": [
        {
          "output_type": "execute_result",
          "data": {
            "text/html": [
              "\n",
              "  <div id=\"df-e6ef228d-6956-4e40-b531-141c9a252f4b\">\n",
              "    <div class=\"colab-df-container\">\n",
              "      <div>\n",
              "<style scoped>\n",
              "    .dataframe tbody tr th:only-of-type {\n",
              "        vertical-align: middle;\n",
              "    }\n",
              "\n",
              "    .dataframe tbody tr th {\n",
              "        vertical-align: top;\n",
              "    }\n",
              "\n",
              "    .dataframe thead th {\n",
              "        text-align: right;\n",
              "    }\n",
              "</style>\n",
              "<table border=\"1\" class=\"dataframe\">\n",
              "  <thead>\n",
              "    <tr style=\"text-align: right;\">\n",
              "      <th></th>\n",
              "      <th>paid_reviews</th>\n",
              "      <th>unpaid_reviews</th>\n",
              "    </tr>\n",
              "  </thead>\n",
              "  <tbody>\n",
              "    <tr>\n",
              "      <th>Total reviews</th>\n",
              "      <td>0</td>\n",
              "      <td>65149.000000</td>\n",
              "    </tr>\n",
              "    <tr>\n",
              "      <th>5-star reviews</th>\n",
              "      <td>0</td>\n",
              "      <td>24673.000000</td>\n",
              "    </tr>\n",
              "    <tr>\n",
              "      <th>5-star percentage</th>\n",
              "      <td>0</td>\n",
              "      <td>37.871648</td>\n",
              "    </tr>\n",
              "  </tbody>\n",
              "</table>\n",
              "</div>\n",
              "      <button class=\"colab-df-convert\" onclick=\"convertToInteractive('df-e6ef228d-6956-4e40-b531-141c9a252f4b')\"\n",
              "              title=\"Convert this dataframe to an interactive table.\"\n",
              "              style=\"display:none;\">\n",
              "        \n",
              "  <svg xmlns=\"http://www.w3.org/2000/svg\" height=\"24px\"viewBox=\"0 0 24 24\"\n",
              "       width=\"24px\">\n",
              "    <path d=\"M0 0h24v24H0V0z\" fill=\"none\"/>\n",
              "    <path d=\"M18.56 5.44l.94 2.06.94-2.06 2.06-.94-2.06-.94-.94-2.06-.94 2.06-2.06.94zm-11 1L8.5 8.5l.94-2.06 2.06-.94-2.06-.94L8.5 2.5l-.94 2.06-2.06.94zm10 10l.94 2.06.94-2.06 2.06-.94-2.06-.94-.94-2.06-.94 2.06-2.06.94z\"/><path d=\"M17.41 7.96l-1.37-1.37c-.4-.4-.92-.59-1.43-.59-.52 0-1.04.2-1.43.59L10.3 9.45l-7.72 7.72c-.78.78-.78 2.05 0 2.83L4 21.41c.39.39.9.59 1.41.59.51 0 1.02-.2 1.41-.59l7.78-7.78 2.81-2.81c.8-.78.8-2.07 0-2.86zM5.41 20L4 18.59l7.72-7.72 1.47 1.35L5.41 20z\"/>\n",
              "  </svg>\n",
              "      </button>\n",
              "      \n",
              "  <style>\n",
              "    .colab-df-container {\n",
              "      display:flex;\n",
              "      flex-wrap:wrap;\n",
              "      gap: 12px;\n",
              "    }\n",
              "\n",
              "    .colab-df-convert {\n",
              "      background-color: #E8F0FE;\n",
              "      border: none;\n",
              "      border-radius: 50%;\n",
              "      cursor: pointer;\n",
              "      display: none;\n",
              "      fill: #1967D2;\n",
              "      height: 32px;\n",
              "      padding: 0 0 0 0;\n",
              "      width: 32px;\n",
              "    }\n",
              "\n",
              "    .colab-df-convert:hover {\n",
              "      background-color: #E2EBFA;\n",
              "      box-shadow: 0px 1px 2px rgba(60, 64, 67, 0.3), 0px 1px 3px 1px rgba(60, 64, 67, 0.15);\n",
              "      fill: #174EA6;\n",
              "    }\n",
              "\n",
              "    [theme=dark] .colab-df-convert {\n",
              "      background-color: #3B4455;\n",
              "      fill: #D2E3FC;\n",
              "    }\n",
              "\n",
              "    [theme=dark] .colab-df-convert:hover {\n",
              "      background-color: #434B5C;\n",
              "      box-shadow: 0px 1px 3px 1px rgba(0, 0, 0, 0.15);\n",
              "      filter: drop-shadow(0px 1px 2px rgba(0, 0, 0, 0.3));\n",
              "      fill: #FFFFFF;\n",
              "    }\n",
              "  </style>\n",
              "\n",
              "      <script>\n",
              "        const buttonEl =\n",
              "          document.querySelector('#df-e6ef228d-6956-4e40-b531-141c9a252f4b button.colab-df-convert');\n",
              "        buttonEl.style.display =\n",
              "          google.colab.kernel.accessAllowed ? 'block' : 'none';\n",
              "\n",
              "        async function convertToInteractive(key) {\n",
              "          const element = document.querySelector('#df-e6ef228d-6956-4e40-b531-141c9a252f4b');\n",
              "          const dataTable =\n",
              "            await google.colab.kernel.invokeFunction('convertToInteractive',\n",
              "                                                     [key], {});\n",
              "          if (!dataTable) return;\n",
              "\n",
              "          const docLinkHtml = 'Like what you see? Visit the ' +\n",
              "            '<a target=\"_blank\" href=https://colab.research.google.com/notebooks/data_table.ipynb>data table notebook</a>'\n",
              "            + ' to learn more about interactive tables.';\n",
              "          element.innerHTML = '';\n",
              "          dataTable['output_type'] = 'display_data';\n",
              "          await google.colab.output.renderOutput(dataTable, element);\n",
              "          const docLink = document.createElement('div');\n",
              "          docLink.innerHTML = docLinkHtml;\n",
              "          element.appendChild(docLink);\n",
              "        }\n",
              "      </script>\n",
              "    </div>\n",
              "  </div>\n",
              "  "
            ],
            "text/plain": [
              "                   paid_reviews  unpaid_reviews\n",
              "Total reviews                 0    65149.000000\n",
              "5-star reviews                0    24673.000000\n",
              "5-star percentage             0       37.871648"
            ]
          },
          "metadata": {},
          "execution_count": 78
        }
      ]
    }
  ]
}